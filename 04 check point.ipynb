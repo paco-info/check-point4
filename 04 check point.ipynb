{
 "cells": [
  {
   "cell_type": "code",
   "execution_count": 5,
   "id": "2bb7fe4f",
   "metadata": {},
   "outputs": [
    {
     "data": {
      "text/html": [
       "<div>\n",
       "<style scoped>\n",
       "    .dataframe tbody tr th:only-of-type {\n",
       "        vertical-align: middle;\n",
       "    }\n",
       "\n",
       "    .dataframe tbody tr th {\n",
       "        vertical-align: top;\n",
       "    }\n",
       "\n",
       "    .dataframe thead th {\n",
       "        text-align: right;\n",
       "    }\n",
       "</style>\n",
       "<table border=\"1\" class=\"dataframe\">\n",
       "  <thead>\n",
       "    <tr style=\"text-align: right;\">\n",
       "      <th></th>\n",
       "      <th>id,date,price,bedrooms,bathrooms,sqft_living,sqft_lot,floors,waterfront,view,condition,grade,sqft_above,sqft_basement,yr_built,yr_renovated,zipcode,lat,long,sqft_living15,sqft_lot15</th>\n",
       "    </tr>\n",
       "  </thead>\n",
       "  <tbody>\n",
       "    <tr>\n",
       "      <th>0</th>\n",
       "      <td>7129300520,\"20141013T000000\",221900,3,1,1180,5...</td>\n",
       "    </tr>\n",
       "    <tr>\n",
       "      <th>1</th>\n",
       "      <td>6414100192,\"20141209T000000\",538000,3,2.25,257...</td>\n",
       "    </tr>\n",
       "    <tr>\n",
       "      <th>2</th>\n",
       "      <td>5631500400,\"20150225T000000\",180000,2,1,770,10...</td>\n",
       "    </tr>\n",
       "    <tr>\n",
       "      <th>3</th>\n",
       "      <td>2487200875,\"20141209T000000\",604000,4,3,1960,5...</td>\n",
       "    </tr>\n",
       "    <tr>\n",
       "      <th>4</th>\n",
       "      <td>1954400510,\"20150218T000000\",510000,3,2,1680,8...</td>\n",
       "    </tr>\n",
       "    <tr>\n",
       "      <th>...</th>\n",
       "      <td>...</td>\n",
       "    </tr>\n",
       "    <tr>\n",
       "      <th>21608</th>\n",
       "      <td>0263000018,\"20140521T000000\",360000,3,2.5,1530...</td>\n",
       "    </tr>\n",
       "    <tr>\n",
       "      <th>21609</th>\n",
       "      <td>6600060120,\"20150223T000000\",400000,4,2.5,2310...</td>\n",
       "    </tr>\n",
       "    <tr>\n",
       "      <th>21610</th>\n",
       "      <td>1523300141,\"20140623T000000\",402101,2,0.75,102...</td>\n",
       "    </tr>\n",
       "    <tr>\n",
       "      <th>21611</th>\n",
       "      <td>0291310100,\"20150116T000000\",400000,3,2.5,1600...</td>\n",
       "    </tr>\n",
       "    <tr>\n",
       "      <th>21612</th>\n",
       "      <td>1523300157,\"20141015T000000\",325000,2,0.75,102...</td>\n",
       "    </tr>\n",
       "  </tbody>\n",
       "</table>\n",
       "<p>21613 rows × 1 columns</p>\n",
       "</div>"
      ],
      "text/plain": [
       "      id,date,price,bedrooms,bathrooms,sqft_living,sqft_lot,floors,waterfront,view,condition,grade,sqft_above,sqft_basement,yr_built,yr_renovated,zipcode,lat,long,sqft_living15,sqft_lot15\n",
       "0      7129300520,\"20141013T000000\",221900,3,1,1180,5...                                                                                                                                   \n",
       "1      6414100192,\"20141209T000000\",538000,3,2.25,257...                                                                                                                                   \n",
       "2      5631500400,\"20150225T000000\",180000,2,1,770,10...                                                                                                                                   \n",
       "3      2487200875,\"20141209T000000\",604000,4,3,1960,5...                                                                                                                                   \n",
       "4      1954400510,\"20150218T000000\",510000,3,2,1680,8...                                                                                                                                   \n",
       "...                                                  ...                                                                                                                                   \n",
       "21608  0263000018,\"20140521T000000\",360000,3,2.5,1530...                                                                                                                                   \n",
       "21609  6600060120,\"20150223T000000\",400000,4,2.5,2310...                                                                                                                                   \n",
       "21610  1523300141,\"20140623T000000\",402101,2,0.75,102...                                                                                                                                   \n",
       "21611  0291310100,\"20150116T000000\",400000,3,2.5,1600...                                                                                                                                   \n",
       "21612  1523300157,\"20141015T000000\",325000,2,0.75,102...                                                                                                                                   \n",
       "\n",
       "[21613 rows x 1 columns]"
      ]
     },
     "execution_count": 5,
     "metadata": {},
     "output_type": "execute_result"
    }
   ],
   "source": [
    "# NON fini je l'ai fait juste pour continuer les cours \n",
    "# le weekend je déposerai le fichier bien éssayé \n",
    "import pandas as pd\n",
    "df=pd.read_csv(\"kc_house_data.csv\",sep=\";\")\n",
    "df\n"
   ]
  },
  {
   "cell_type": "code",
   "execution_count": null,
   "id": "8523dea1",
   "metadata": {},
   "outputs": [],
   "source": []
  }
 ],
 "metadata": {
  "kernelspec": {
   "display_name": "Python 3 (ipykernel)",
   "language": "python",
   "name": "python3"
  },
  "language_info": {
   "codemirror_mode": {
    "name": "ipython",
    "version": 3
   },
   "file_extension": ".py",
   "mimetype": "text/x-python",
   "name": "python",
   "nbconvert_exporter": "python",
   "pygments_lexer": "ipython3",
   "version": "3.9.12"
  }
 },
 "nbformat": 4,
 "nbformat_minor": 5
}
